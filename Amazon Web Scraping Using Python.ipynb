{
 "cells": [
  {
   "cell_type": "markdown",
   "id": "545d9f07-6174-4c58-8e9e-27df37c60159",
   "metadata": {},
   "source": [
    "# AMAZON WEB SCRAPING USING PYTHON"
   ]
  },
  {
   "cell_type": "code",
   "execution_count": 6,
   "id": "82facdec-21d8-4b64-b71d-4599a53bbcaa",
   "metadata": {},
   "outputs": [],
   "source": [
    "# import libraries \n",
    "\n",
    "from bs4 import BeautifulSoup\n",
    "import requests\n",
    "import time\n",
    "import datetime\n",
    "\n",
    "import smtplib"
   ]
  },
  {
   "cell_type": "code",
   "execution_count": 14,
   "id": "c7391705-0e8a-423c-9f14-6a30017949db",
   "metadata": {},
   "outputs": [],
   "source": [
    "# Connect to Website and pull in data\n",
    "\n",
    "URL = 'https://www.amazon.com/PlayStation-Pulse-Elite-Wireless-Headset-5/dp/B0CMDH9M5W/ref=sr_1_9?crid=3RBVZVQUGDHLK&dib=eyJ2IjoiMSJ9.IBzp2a7hJYOBBKGDpX2BCPoX2_7jUpYhfvNxHBCjGlrUl68zg5nJqVbMZ-92JmnRTMaStoUlif6Ek9mE4fxoTVFsOYr3U3Yr6y4sxi7qTX3B4njb6tnq76dpnV8boODRlzqRSar0WZQ78QqJDHpHQ-ZSoZhKfhXx2PiGwcOHjFT3cDYWjNamI2HbjfDNRuMQw8cbZmmkxDdIjsNiApWLdcTFLhekTAjfcHiqFXnfJfo.oQQZtPSWg76GBKutgjGSY5BpZhCndARdgdTHLXIVM3Y&dib_tag=se&keywords=playstation+5&qid=1731773855&sprefix=playstat%2Caps%2C591&sr=8-9'\n",
    "\n",
    "HEADERS = ({'User-Agent' : 'Mozilla/5.0 (Windows NT 10.0; Win64; x64) AppleWebKit/537.36 (KHTML, like Gecko) Chrome/130.0.0.0 Safari/537.36 Edg/130.0.0.0', 'Accept-Language' : 'en-US, en;q=O.5'})\n",
    "\n",
    "page = requests.get(URL, headers = HEADERS)\n",
    "\n",
    "soup1 = BeautifulSoup(page.content, 'html.parser')\n",
    "\n",
    "soup2 = BeautifulSoup(soup1.prettify(), 'html.parser')\n",
    "\n"
   ]
  },
  {
   "cell_type": "code",
   "execution_count": 18,
   "id": "4837d107-6555-4533-82f3-8d2531aa6faa",
   "metadata": {},
   "outputs": [
    {
     "name": "stdout",
     "output_type": "stream",
     "text": [
      "\n",
      "             PlayStation Pulse Elite Wireless Headset\n",
      "            \n",
      "\n",
      "                             $149.00\n",
      "                            \n"
     ]
    }
   ],
   "source": [
    "# pulling product title and price\n",
    "\n",
    "title = soup2.find(id=\"productTitle\").get_text()\n",
    "\n",
    "price = soup2.find(class_=\"a-offscreen\").get_text()\n",
    "\n",
    "print(title)\n",
    "print(price)"
   ]
  },
  {
   "cell_type": "code",
   "execution_count": 20,
   "id": "b81cc6cf-3cd9-473d-a4b5-6c451385c2ba",
   "metadata": {},
   "outputs": [
    {
     "name": "stdout",
     "output_type": "stream",
     "text": [
      "PlayStation Pulse Elite Wireless Headset\n",
      "149.00\n"
     ]
    }
   ],
   "source": [
    "# Clean up the data a little bit\n",
    "\n",
    "price = price.strip()[1:]\n",
    "title = title.strip()\n",
    "\n",
    "print(title)\n",
    "print(price)"
   ]
  },
  {
   "cell_type": "code",
   "execution_count": 22,
   "id": "aa887e1b-738f-4f2a-961b-b153d64bde8e",
   "metadata": {},
   "outputs": [
    {
     "name": "stdout",
     "output_type": "stream",
     "text": [
      "2024-11-16\n"
     ]
    }
   ],
   "source": [
    "# Creating Timestamp for output to track when data was collected\n",
    "\n",
    "import datetime\n",
    "\n",
    "today = datetime.date.today()\n",
    "\n",
    "print(today)"
   ]
  },
  {
   "cell_type": "code",
   "execution_count": 26,
   "id": "3ca89eee-d0c2-4fd4-b4b9-81b1c4412b89",
   "metadata": {},
   "outputs": [],
   "source": [
    "# Create CSV and writing headers and data into the file\n",
    "\n",
    "import csv \n",
    "\n",
    "header = ['Title', 'Price', 'Date']\n",
    "data = [title, price, today]\n",
    "\n",
    "\n",
    "with open('AmazonWebScraperDataset.csv', 'w', newline='', encoding='UTF8') as f:\n",
    "    writer = csv.writer(f)\n",
    "    writer.writerow(header)\n",
    "    writer.writerow(data)\n",
    "    "
   ]
  },
  {
   "cell_type": "code",
   "execution_count": 30,
   "id": "5dcceee9-04c8-4a5c-a51a-a83d013e005f",
   "metadata": {},
   "outputs": [
    {
     "name": "stdout",
     "output_type": "stream",
     "text": [
      "                                      Title  Price        Date\n",
      "0  PlayStation Pulse Elite Wireless Headset  149.0  2024-11-16\n"
     ]
    }
   ],
   "source": [
    "# Inserted data reading\n",
    "\n",
    "import pandas as pd\n",
    "\n",
    "df = pd.read_csv(r\"C:\\Users\\hp\\OneDrive\\Documents\\AmazonWebScraperDataset.csv\")\n",
    "\n",
    "print(df)"
   ]
  },
  {
   "cell_type": "code",
   "execution_count": 36,
   "id": "41edba5e-f384-4840-9992-6d2765b911a5",
   "metadata": {},
   "outputs": [],
   "source": [
    "# Appending data to the csv\n",
    "\n",
    "with open('AmazonWebScraperDataset.csv', 'a+', newline='', encoding='UTF8') as f:\n",
    "    writer = csv.writer(f)\n",
    "    writer.writerow(data)"
   ]
  },
  {
   "cell_type": "code",
   "execution_count": 40,
   "id": "c01c0dc4-686f-435e-aa35-6a20e86b81c2",
   "metadata": {},
   "outputs": [],
   "source": [
    "#Combine all of the above code into one function\n",
    "\n",
    "def check_price():\n",
    "    \n",
    "    URL = 'https://www.amazon.com/PlayStation-Pulse-Elite-Wireless-Headset-5/dp/B0CMDH9M5W/ref=sr_1_9?crid=3RBVZVQUGDHLK&dib=eyJ2IjoiMSJ9.IBzp2a7hJYOBBKGDpX2BCPoX2_7jUpYhfvNxHBCjGlrUl68zg5nJqVbMZ-92JmnRTMaStoUlif6Ek9mE4fxoTVFsOYr3U3Yr6y4sxi7qTX3B4njb6tnq76dpnV8boODRlzqRSar0WZQ78QqJDHpHQ-ZSoZhKfhXx2PiGwcOHjFT3cDYWjNamI2HbjfDNRuMQw8cbZmmkxDdIjsNiApWLdcTFLhekTAjfcHiqFXnfJfo.oQQZtPSWg76GBKutgjGSY5BpZhCndARdgdTHLXIVM3Y&dib_tag=se&keywords=playstation+5&qid=1731773855&sprefix=playstat%2Caps%2C591&sr=8-9'\n",
    "    \n",
    "    HEADERS = ({'User-Agent' : 'Mozilla/5.0 (Windows NT 10.0; Win64; x64) AppleWebKit/537.36 (KHTML, like Gecko) Chrome/130.0.0.0 Safari/537.36 Edg/130.0.0.0', 'Accept-Language' : 'en-US, en;q=O.5'})\n",
    "    \n",
    "    page = requests.get(URL, headers = HEADERS)\n",
    "    \n",
    "    soup1 = BeautifulSoup(page.content, 'html.parser')\n",
    "    \n",
    "    soup2 = BeautifulSoup(soup1.prettify(), 'html.parser')\n",
    "    \n",
    "    title = soup2.find(id=\"productTitle\").get_text()\n",
    "    \n",
    "    price = soup2.find(class_=\"a-offscreen\").get_text()\n",
    "    \n",
    "    title = title.strip()\n",
    "    price = price.strip()[1:]\n",
    "\n",
    "    import datetime\n",
    "    \n",
    "    today = datetime.date.today()\n",
    "    \n",
    "    import csv\n",
    "    \n",
    "    header = ['Title', 'Price', 'Date']\n",
    "    \n",
    "    data = [title, price, today]\n",
    "\n",
    "    with open('AmazonWebScrapingDataSet.csv', 'a+', newline='', encoding='UTF8') as f:\n",
    "        \n",
    "        writer = csv.writer(f)\n",
    "        \n",
    "        writer.writerow(data)"
   ]
  },
  {
   "cell_type": "code",
   "execution_count": null,
   "id": "043eeba7-0aeb-4207-98d9-115b09cfce9d",
   "metadata": {},
   "outputs": [],
   "source": [
    "# Runs check_price after a set time and inputs data into your CSV\n",
    "\n",
    "while(True):\n",
    "    check_price()\n",
    "    time.sleep(86400)"
   ]
  },
  {
   "cell_type": "code",
   "execution_count": 45,
   "id": "28f0ee40-d901-4988-979d-a08a14df21db",
   "metadata": {},
   "outputs": [
    {
     "name": "stdout",
     "output_type": "stream",
     "text": [
      "                                      Title  Price        Date\n",
      "0  PlayStation Pulse Elite Wireless Headset  149.0  2024-11-16\n"
     ]
    }
   ],
   "source": [
    "import pandas as pd\n",
    "\n",
    "df = pd.read_csv(r\"C:\\Users\\hp\\OneDrive\\Documents\\AmazonWebScraperDataset.csv\")\n",
    "\n",
    "print(df)"
   ]
  },
  {
   "cell_type": "code",
   "execution_count": null,
   "id": "4f5760dc-732e-4272-be51-4fd9469f5354",
   "metadata": {},
   "outputs": [],
   "source": [
    "# Sending an email when a price hits below a certain level\n",
    "\n",
    "def send_mail():\n",
    "    server = smtplib.SMTP_SSL('smtp.gmail.com',465)\n",
    "    server.ehlo()\n",
    "    #server.starttls()\n",
    "    server.ehlo()\n",
    "    server.login('manisha020903@gmail.com','xxxxxxxxxxxxxx')\n",
    "    \n",
    "    subject = \"The Shirt you want is below ₹120! Now is your chance to buy!\"\n",
    "    body = \"Mani, This is the moment we have been waiting for. Now is your chance to pick up the shirt of your dreams. Don't mess it up! Link here: https://www.amazon.com/Funny-Data-Systems-Business-Analyst/dp/B07FNW9FGJ/ref=sr_1_3?dchild=1&keywords=data+analyst+tshirt&qid=1626655184&sr=8-3\"\n",
    "   \n",
    "    msg = f\"Subject: {subject}\\n\\n{body}\"\n",
    "    \n",
    "    server.sendmail(\n",
    "        'manisha020903@gmail.com',\n",
    "        msg\n",
    "     \n",
    "    )"
   ]
  }
 ],
 "metadata": {
  "kernelspec": {
   "display_name": "Python 3 (ipykernel)",
   "language": "python",
   "name": "python3"
  },
  "language_info": {
   "codemirror_mode": {
    "name": "ipython",
    "version": 3
   },
   "file_extension": ".py",
   "mimetype": "text/x-python",
   "name": "python",
   "nbconvert_exporter": "python",
   "pygments_lexer": "ipython3",
   "version": "3.12.7"
  }
 },
 "nbformat": 4,
 "nbformat_minor": 5
}
